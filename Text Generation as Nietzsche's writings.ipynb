{
 "cells": [
  {
   "cell_type": "markdown",
   "id": "8ce05969",
   "metadata": {},
   "source": [
    "### Data Loading"
   ]
  },
  {
   "cell_type": "code",
   "execution_count": 1,
   "id": "48940bbc",
   "metadata": {},
   "outputs": [],
   "source": [
    "from keras.utils import get_file\n",
    "import numpy as np"
   ]
  },
  {
   "cell_type": "code",
   "execution_count": 2,
   "id": "5d096644",
   "metadata": {},
   "outputs": [],
   "source": [
    "path = get_file('nietzsche.txt', origin = 'https://s3.amazonaws.com/text-datasets/nietzsche.txt')"
   ]
  },
  {
   "cell_type": "code",
   "execution_count": 3,
   "id": "9dad4766",
   "metadata": {},
   "outputs": [],
   "source": [
    "text = open(path).read().lower()"
   ]
  },
  {
   "cell_type": "code",
   "execution_count": 4,
   "id": "c15d3a06",
   "metadata": {},
   "outputs": [
    {
     "name": "stdout",
     "output_type": "stream",
     "text": [
      "Corpus length: 600901 characters\n"
     ]
    }
   ],
   "source": [
    "print(\"Corpus length:\", len(text), \"characters\")"
   ]
  },
  {
   "cell_type": "markdown",
   "id": "031791b8",
   "metadata": {},
   "source": [
    "### Tokenizing sequences of characters"
   ]
  },
  {
   "cell_type": "code",
   "execution_count": 5,
   "id": "f08d992f",
   "metadata": {},
   "outputs": [],
   "source": [
    "maxlen = 60\n",
    "step = 3\n",
    "sentences = []\n",
    "next_chars = []"
   ]
  },
  {
   "cell_type": "code",
   "execution_count": 6,
   "id": "c1e32871",
   "metadata": {},
   "outputs": [
    {
     "name": "stdout",
     "output_type": "stream",
     "text": [
      "Number of sequences: 200281\n"
     ]
    }
   ],
   "source": [
    "for i in range(0, len(text) - maxlen, step):\n",
    "    sentences.append(text[i : i + maxlen])\n",
    "    next_chars.append(text[i + maxlen])\n",
    "\n",
    "print(\"Number of sequences:\", len(sentences))"
   ]
  },
  {
   "cell_type": "code",
   "execution_count": 7,
   "id": "924563ab",
   "metadata": {},
   "outputs": [
    {
     "name": "stdout",
     "output_type": "stream",
     "text": [
      "Unique characters: 59\n",
      "['\\n', ' ', '!', '\"', \"'\", '(', ')', ',', '-', '.', '0', '1', '2', '3', '4', '5', '6', '7', '8', '9', ':', ';', '=', '?', '[', ']', '_', 'a', 'b', 'c', 'd', 'e', 'f', 'g', 'h', 'i', 'j', 'k', 'l', 'm', 'n', 'o', 'p', 'q', 'r', 's', 't', 'u', 'v', 'w', 'x', 'y', 'z', '¤', '¦', '©', '«', 'ã', '†']\n"
     ]
    }
   ],
   "source": [
    "chars = sorted(list(set(text)))\n",
    "print(\"Unique characters:\", len(chars))\n",
    "print(chars)\n",
    "char_indices = dict((char, chars.index(char)) for char in chars)"
   ]
  },
  {
   "cell_type": "code",
   "execution_count": 8,
   "id": "0494dfc4",
   "metadata": {},
   "outputs": [
    {
     "name": "stdout",
     "output_type": "stream",
     "text": [
      "Vectorizing using one-hot encoding....\n"
     ]
    }
   ],
   "source": [
    "print(\"Vectorizing using one-hot encoding....\")\n",
    "\n",
    "x = np.zeros(shape = (len(sentences), maxlen, len(chars)))\n",
    "y = np.zeros(shape = (len(sentences), len(chars)))\n",
    "\n",
    "for i, sentence in enumerate(sentences):\n",
    "    for j, char in enumerate(sentence):\n",
    "        x[i, j, char_indices[char]] = 1\n",
    "    y[i, char_indices[next_chars[i]]] = 1"
   ]
  },
  {
   "cell_type": "markdown",
   "id": "9a622b61",
   "metadata": {},
   "source": [
    "### Network Architecture"
   ]
  },
  {
   "cell_type": "code",
   "execution_count": 9,
   "id": "944c42a3",
   "metadata": {},
   "outputs": [],
   "source": [
    "from keras.models import Sequential\n",
    "from keras import layers\n",
    "import matplotlib.pyplot as plt"
   ]
  },
  {
   "cell_type": "code",
   "execution_count": 10,
   "id": "b1f30501",
   "metadata": {},
   "outputs": [],
   "source": [
    "model = Sequential()\n",
    "model.add(layers.Bidirectional(layers.LSTM(140, input_shape = (maxlen, len(chars)))))\n",
    "model.add(layers.Dense(len(chars), activation = 'softmax'))"
   ]
  },
  {
   "cell_type": "code",
   "execution_count": 11,
   "id": "4ffc042f",
   "metadata": {},
   "outputs": [],
   "source": [
    "model.compile(loss = 'categorical_crossentropy', optimizer = 'rmsprop', metrics = ['accuracy'])"
   ]
  },
  {
   "cell_type": "code",
   "execution_count": 12,
   "id": "9f9e987b",
   "metadata": {},
   "outputs": [
    {
     "name": "stdout",
     "output_type": "stream",
     "text": [
      "Epoch 1/60\n",
      "1565/1565 [==============================] - 291s 182ms/step - loss: 2.5100 - accuracy: 0.2873\n",
      "Epoch 2/60\n",
      "1565/1565 [==============================] - 299s 191ms/step - loss: 2.1131 - accuracy: 0.3808\n",
      "Epoch 3/60\n",
      "1565/1565 [==============================] - 340s 217ms/step - loss: 1.9636 - accuracy: 0.4189\n",
      "Epoch 4/60\n",
      "1565/1565 [==============================] - 308s 197ms/step - loss: 1.8598 - accuracy: 0.4460\n",
      "Epoch 5/60\n",
      "1565/1565 [==============================] - 304s 194ms/step - loss: 1.7917 - accuracy: 0.4688\n",
      "Epoch 6/60\n",
      "1565/1565 [==============================] - 299s 191ms/step - loss: 1.7209 - accuracy: 0.4874\n",
      "Epoch 7/60\n",
      "1565/1565 [==============================] - 301s 192ms/step - loss: 1.6655 - accuracy: 0.5031\n",
      "Epoch 8/60\n",
      "1565/1565 [==============================] - 304s 194ms/step - loss: 1.6191 - accuracy: 0.5157\n",
      "Epoch 9/60\n",
      "1565/1565 [==============================] - 300s 191ms/step - loss: 1.5749 - accuracy: 0.5282\n",
      "Epoch 10/60\n",
      "1565/1565 [==============================] - 300s 192ms/step - loss: 1.5422 - accuracy: 0.5380\n",
      "Epoch 11/60\n",
      "1565/1565 [==============================] - 300s 192ms/step - loss: 1.5095 - accuracy: 0.5467\n",
      "Epoch 12/60\n",
      "1565/1565 [==============================] - 300s 192ms/step - loss: 1.4849 - accuracy: 0.5540\n",
      "Epoch 13/60\n",
      "1565/1565 [==============================] - 299s 191ms/step - loss: 1.4605 - accuracy: 0.5603\n",
      "Epoch 14/60\n",
      "1565/1565 [==============================] - 300s 191ms/step - loss: 1.4351 - accuracy: 0.5673\n",
      "Epoch 15/60\n",
      "1565/1565 [==============================] - 301s 192ms/step - loss: 1.4125 - accuracy: 0.5724\n",
      "Epoch 16/60\n",
      "1565/1565 [==============================] - 301s 192ms/step - loss: 1.3923 - accuracy: 0.5791\n",
      "Epoch 17/60\n",
      "1565/1565 [==============================] - 310s 198ms/step - loss: 1.3748 - accuracy: 0.5831\n",
      "Epoch 18/60\n",
      "1565/1565 [==============================] - 297s 190ms/step - loss: 1.3572 - accuracy: 0.5876\n",
      "Epoch 19/60\n",
      "1565/1565 [==============================] - 297s 190ms/step - loss: 1.3400 - accuracy: 0.5934\n",
      "Epoch 20/60\n",
      "1565/1565 [==============================] - 299s 191ms/step - loss: 1.3263 - accuracy: 0.5970\n",
      "Epoch 21/60\n",
      "1565/1565 [==============================] - 294s 188ms/step - loss: 1.3147 - accuracy: 0.6007\n",
      "Epoch 22/60\n",
      "1565/1565 [==============================] - 294s 188ms/step - loss: 1.2940 - accuracy: 0.6048\n",
      "Epoch 23/60\n",
      "1565/1565 [==============================] - 292s 187ms/step - loss: 1.2840 - accuracy: 0.6082\n",
      "Epoch 24/60\n",
      "1565/1565 [==============================] - 294s 188ms/step - loss: 1.2684 - accuracy: 0.6119\n",
      "Epoch 25/60\n",
      "1565/1565 [==============================] - 294s 188ms/step - loss: 1.2535 - accuracy: 0.6161\n",
      "Epoch 26/60\n",
      "1565/1565 [==============================] - 294s 188ms/step - loss: 1.2407 - accuracy: 0.6198\n",
      "Epoch 27/60\n",
      "1565/1565 [==============================] - 295s 188ms/step - loss: 1.2327 - accuracy: 0.6218\n",
      "Epoch 28/60\n",
      "1565/1565 [==============================] - 296s 189ms/step - loss: 1.2192 - accuracy: 0.6265\n",
      "Epoch 29/60\n",
      "1565/1565 [==============================] - 294s 188ms/step - loss: 1.2062 - accuracy: 0.6295\n",
      "Epoch 30/60\n",
      "1565/1565 [==============================] - 293s 187ms/step - loss: 1.1942 - accuracy: 0.6330\n",
      "Epoch 31/60\n",
      "1565/1565 [==============================] - 294s 188ms/step - loss: 1.1848 - accuracy: 0.6358\n",
      "Epoch 32/60\n",
      "1565/1565 [==============================] - 293s 187ms/step - loss: 1.1744 - accuracy: 0.6388\n",
      "Epoch 33/60\n",
      "1565/1565 [==============================] - 292s 187ms/step - loss: 1.1650 - accuracy: 0.6416\n",
      "Epoch 34/60\n",
      "1565/1565 [==============================] - 292s 187ms/step - loss: 1.1529 - accuracy: 0.6439\n",
      "Epoch 35/60\n",
      "1565/1565 [==============================] - 293s 187ms/step - loss: 1.1428 - accuracy: 0.6475\n",
      "Epoch 36/60\n",
      "1565/1565 [==============================] - 293s 188ms/step - loss: 1.1340 - accuracy: 0.6496\n",
      "Epoch 37/60\n",
      "1565/1565 [==============================] - 292s 187ms/step - loss: 1.1238 - accuracy: 0.6527\n",
      "Epoch 38/60\n",
      "1565/1565 [==============================] - 293s 187ms/step - loss: 1.1149 - accuracy: 0.6556\n",
      "Epoch 39/60\n",
      "1565/1565 [==============================] - 293s 187ms/step - loss: 1.1051 - accuracy: 0.6583\n",
      "Epoch 40/60\n",
      "1565/1565 [==============================] - 295s 188ms/step - loss: 1.0973 - accuracy: 0.6605\n",
      "Epoch 41/60\n",
      "1565/1565 [==============================] - 299s 191ms/step - loss: 1.0867 - accuracy: 0.6633\n",
      "Epoch 42/60\n",
      "1565/1565 [==============================] - 293s 187ms/step - loss: 1.0785 - accuracy: 0.6658\n",
      "Epoch 43/60\n",
      "1565/1565 [==============================] - 290s 185ms/step - loss: 1.0711 - accuracy: 0.6685\n",
      "Epoch 44/60\n",
      "1565/1565 [==============================] - 290s 185ms/step - loss: 1.0633 - accuracy: 0.6704\n",
      "Epoch 45/60\n",
      "1565/1565 [==============================] - 293s 187ms/step - loss: 1.0542 - accuracy: 0.6732\n",
      "Epoch 46/60\n",
      "1565/1565 [==============================] - 292s 187ms/step - loss: 1.0463 - accuracy: 0.6751\n",
      "Epoch 47/60\n",
      "1565/1565 [==============================] - 293s 187ms/step - loss: 1.0375 - accuracy: 0.6777\n",
      "Epoch 48/60\n",
      "1565/1565 [==============================] - 293s 187ms/step - loss: 1.0302 - accuracy: 0.6805\n",
      "Epoch 49/60\n",
      "1565/1565 [==============================] - 290s 185ms/step - loss: 1.0208 - accuracy: 0.6825\n",
      "Epoch 50/60\n",
      "1565/1565 [==============================] - 291s 186ms/step - loss: 1.0126 - accuracy: 0.6845\n",
      "Epoch 51/60\n",
      "1565/1565 [==============================] - 290s 185ms/step - loss: 1.0061 - accuracy: 0.6865\n",
      "Epoch 52/60\n",
      "1565/1565 [==============================] - 291s 186ms/step - loss: 0.9982 - accuracy: 0.6888\n",
      "Epoch 53/60\n",
      "1565/1565 [==============================] - 292s 186ms/step - loss: 0.9897 - accuracy: 0.6920\n",
      "Epoch 54/60\n",
      "1565/1565 [==============================] - 292s 187ms/step - loss: 0.9820 - accuracy: 0.6946\n",
      "Epoch 55/60\n",
      "1565/1565 [==============================] - 292s 187ms/step - loss: 0.9728 - accuracy: 0.6967\n",
      "Epoch 56/60\n",
      "1565/1565 [==============================] - 292s 186ms/step - loss: 0.9661 - accuracy: 0.6991\n",
      "Epoch 57/60\n",
      "1565/1565 [==============================] - 294s 188ms/step - loss: 0.9572 - accuracy: 0.7006\n",
      "Epoch 58/60\n",
      "1565/1565 [==============================] - 292s 186ms/step - loss: 0.9489 - accuracy: 0.7031\n",
      "Epoch 59/60\n",
      "1565/1565 [==============================] - 291s 186ms/step - loss: 0.9500 - accuracy: 0.7039\n",
      "Epoch 60/60\n",
      "1565/1565 [==============================] - 292s 186ms/step - loss: 0.9364 - accuracy: 0.7063\n"
     ]
    }
   ],
   "source": [
    "history = model.fit(x, y, batch_size = 128, epochs = 60)"
   ]
  },
  {
   "cell_type": "code",
   "execution_count": 13,
   "id": "bf6235fe",
   "metadata": {},
   "outputs": [
    {
     "data": {
      "image/png": "[encoded data removed]",
      "text/plain": [
       "<Figure size 640x480 with 1 Axes>"
      ]
     },
     "metadata": {},
     "output_type": "display_data"
    },
    {
     "data": {
      "image/png": "[encoded data removed]",
      "text/plain": [
       "<Figure size 640x480 with 1 Axes>"
      ]
     },
     "metadata": {},
     "output_type": "display_data"
    },
    {
     "data": {
      "text/plain": [
       "<Figure size 640x480 with 0 Axes>"
      ]
     },
     "metadata": {},
     "output_type": "display_data"
    }
   ],
   "source": [
    "#### Plotting the model performance\n",
    "\n",
    "epochs = range(1, 61)\n",
    "\n",
    "plt.plot(epochs, history.history['accuracy'], 'bo')\n",
    "plt.xlabel('Epochs')\n",
    "plt.ylabel('Accuracy')\n",
    "\n",
    "plt.figure()\n",
    "\n",
    "plt.plot(epochs, history.history['loss'], 'bo')\n",
    "plt.xlabel('Epochs')\n",
    "plt.ylabel('Loss')\n",
    "\n",
    "plt.show()\n",
    "plt.clf()"
   ]
  },
  {
   "cell_type": "markdown",
   "id": "3befd694",
   "metadata": {},
   "source": [
    "### Sampling using Softmax temperature"
   ]
  },
  {
   "cell_type": "code",
   "execution_count": 14,
   "id": "5dc37b86",
   "metadata": {},
   "outputs": [],
   "source": [
    "def sample(preds, temperature = 1.0):\n",
    "    preds = np.asarray(preds).astype('float64')\n",
    "    preds = np.log(preds) / temperature\n",
    "    exp_preds = np.exp(preds)\n",
    "    preds = exp_preds / np.sum(exp_preds)\n",
    "    \n",
    "    prob_samp = np.random.multinomial(1, preds)\n",
    "    return np.argmax(prob_samp)"
   ]
  },
  {
   "cell_type": "markdown",
   "id": "21464377",
   "metadata": {},
   "source": [
    "### Text-generation loop"
   ]
  },
  {
   "cell_type": "code",
   "execution_count": 15,
   "id": "f362d3e0",
   "metadata": {},
   "outputs": [],
   "source": [
    "import sys"
   ]
  },
  {
   "cell_type": "code",
   "execution_count": 16,
   "id": "1cc5d8d3",
   "metadata": {},
   "outputs": [],
   "source": [
    "cond_data = \"Having attained the age of thirty Zarathustra left\\nhis home \""
   ]
  },
  {
   "cell_type": "code",
   "execution_count": 17,
   "id": "2f21862d",
   "metadata": {},
   "outputs": [
    {
     "name": "stdout",
     "output_type": "stream",
     "text": [
      "Conditioning Data length: 60\n"
     ]
    }
   ],
   "source": [
    "print(\"Conditioning Data length:\", len(cond_data))"
   ]
  },
  {
   "cell_type": "code",
   "execution_count": 18,
   "id": "910eccfb",
   "metadata": {},
   "outputs": [],
   "source": [
    "gen_len = 400\n",
    "temperatures = [0.2, 0.5, 1.0, 1.2]"
   ]
  },
  {
   "cell_type": "code",
   "execution_count": 21,
   "id": "0145045e",
   "metadata": {},
   "outputs": [
    {
     "name": "stdout",
     "output_type": "stream",
     "text": [
      "\n",
      "---------- temperature: 0.2\n",
      "Having attained the age of thirty Zarathustra left\n",
      "his home with a god at the science of \"god,\" if a persent to the will\n",
      "of religious contemptary new that the sense of his spirit, on the best of and evil of\n",
      "the distinction of the present of person who is feel non yen his faculty for every\n",
      "bod and forms and lives and the strength of the sense of discondentance for a commont men of the\n",
      "instincts--and all the science of a ningure. the individual beings\n",
      "man as\n",
      "\n",
      "---------- temperature: 0.5\n",
      "Having attained the age of thirty Zarathustra left\n",
      "his home  a thing in the sinternice to be a misicust of the spirit and\n",
      "ingmination, everything intellectual is in the strength of the\n",
      "spirit and included. on the case of the possesse--if it is not\n",
      "syoppeat feel as appare and things is not only the man heart\n",
      "for every long. therefore it is menishm, and hat equally according\n",
      "to the man bad and the most mand, and thereby the individual believed\n",
      "be result hims\n",
      "\n",
      "---------- temperature: 1.0\n",
      "Having attained the age of thirty Zarathustra left\n",
      "his home elf with an oberation of the feeling\" from a more offecalle\n",
      ".ligitfientfed, recoiled) difficult venting the origin of a life, if solliring, \"indeed, he bad not--indid accounted\n",
      "the essence of sensavions, as a standard with succictics, which\n",
      "may certain value badled hitherthing of the whole opposicts, suthed we\n",
      "and agot to be more perfess--it is duex intifficutent, religious\n",
      "invinct be from \"the hi\n",
      "\n",
      "---------- temperature: 1.2\n",
      "Having attained the age of thirty Zarathustra left\n",
      "his home ghest empici, exist things of ourself\n",
      "present--the sense to this day so upat themselves do not delight\n",
      "and anbifiorate--thre! greupty the feaus, caves, feelings life and destroy, for\n",
      "eutoul, then its last feal psychology say alself! becours! i heast\n",
      "indeplate themselves\" (on the world would geate in his present, \"round, loagh and\n",
      "supernifienced to go\"--that all this matters live acconda deservet, \n"
     ]
    }
   ],
   "source": [
    "gen_text = cond_data.lower()\n",
    "\n",
    "for temperature in temperatures:\n",
    "    print()\n",
    "    print(\"---------- temperature:\", temperature)\n",
    "    sys.stdout.write(cond_data)\n",
    "    \n",
    "    for i in range(gen_len):\n",
    "        x_pred = np.zeros(shape = (1, maxlen, len(chars)))\n",
    "        for j, char in enumerate(gen_text):\n",
    "            x_pred[0, j, char_indices[char]] = 1\n",
    "        \n",
    "        pred = model.predict(x_pred, verbose = 0)[0]\n",
    "        next_index = sample(pred, temperature)\n",
    "        next_char = chars[next_index]\n",
    "        \n",
    "        gen_text += next_char\n",
    "        gen_text = gen_text[1:]\n",
    "        \n",
    "        sys.stdout.write(next_char)\n",
    "    print()"
   ]
  }
 ],
 "metadata": {
  "kernelspec": {
   "display_name": "Python 3 (ipykernel)",
   "language": "python",
   "name": "python3"
  },
  "language_info": {
   "codemirror_mode": {
    "name": "ipython",
    "version": 3
   },
   "file_extension": ".py",
   "mimetype": "text/x-python",
   "name": "python",
   "nbconvert_exporter": "python",
   "pygments_lexer": "ipython3",
   "version": "3.10.9"
  }
 },
 "nbformat": 4,
 "nbformat_minor": 5
}
